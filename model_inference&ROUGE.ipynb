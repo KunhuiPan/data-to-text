{
  "cells": [
    {
      "cell_type": "markdown",
      "id": "3d553c8b-5a1b-4615-ac43-65f0c5d3d112",
      "metadata": {
        "id": "3d553c8b-5a1b-4615-ac43-65f0c5d3d112"
      },
      "source": [
        "# Model Inference"
      ]
    },
    {
      "cell_type": "markdown",
      "id": "51b11a02-cbf5-4bb7-a9bf-bf3c0ca91fdc",
      "metadata": {
        "id": "51b11a02-cbf5-4bb7-a9bf-bf3c0ca91fdc"
      },
      "source": [
        "## First instance"
      ]
    },
    {
      "cell_type": "code",
      "execution_count": null,
      "id": "cae973bd-6f53-488d-a62b-329011c6f473",
      "metadata": {
        "id": "cae973bd-6f53-488d-a62b-329011c6f473",
        "outputId": "f1045fa6-e0dd-4bb9-aebb-adee28ecebc2"
      },
      "outputs": [
        {
          "name": "stderr",
          "output_type": "stream",
          "text": [
            "Loading checkpoint shards: 100%|██████████| 8/8 [00:12<00:00,  1.62s/it]\n"
          ]
        },
        {
          "name": "stdout",
          "output_type": "stream",
          "text": [
            "Before tuning:\n",
            " The data provides information about a company's financial performance, including the total amount of money being transferred, the number of transactions in a case, the number of linked customers, the value of the CASHDEPOCASHDEPO2 account, the value of the TRANSACTCRBOUTGO1 account, the value of the TRANSACTCRBOUTGO2 account, the value of the TRANSACTCRbinCOM1 account, the cust_risk_score, the bcnf_type_Name, and the CustRiskCountryId.\n",
            "\n",
            "The effect of the number of transactions in case is 15.44%, which means that the company's financial performance has been affected by the number of transactions in a case.\n",
            "\n",
            "The effect of the numberLinkedCustomers is 19.06%, which means that the company's financial performance has been affected by the number of linked customers.\n",
            "\n",
            "The value of the CASHDEPOCASHDEPO2 account is 0.00, which means that the company's financial performance has not been affected by this account.\n",
            "\n",
            "The value of the TRANSACTCRBOUTGO1 account is 0.00, which means that the company's financial performance has not been affected by this account.\n",
            "\n",
            "The value of the TRANSACTCRBOUTGO2 account is 0.00, which means that the company's financial performance has not been affected by this account.\n",
            "\n",
            "The value of the TRANSACTCRbinCOM1 account is 1.00, which means that the company's financial performance has been affected by this account.\n",
            "\n",
            "The custRiskCountryId is \"United Kingdom\", which means that the company's financial performance has been affected by the custRiskCountryId.\n",
            "\n",
            "The prediction is that the company will perform well if it increases the number of transactions in case by 10%, and that it will perform well if it increases the numberLinkedCustomers by 20%. However, it is important to note that the data does not provide a clear picture of the company's overall financial health, and more information is needed to make a more accurate prediction about the company's future performance.\n",
            "\n",
            "After tuning:\n",
            " total amount transfered is 169675.51 with the effect of 2.93%, indicating a moderate positive impact. in 1 transaction with the effect of 15.44%, indicating a significant positive contribution. Moreover, there is only 3 linked customer with the effect of 19.06%, indicating a significant positive contribution. The customer has made a cash deposit with an amount of 0.00 with the effect of -5.97%, indicating a moderate negative impact. Additionally, the outgoing cross-border transfers amount(01) is 0.00 with the effect of 2.64%, indicating a moderate positive impact. Additionally, the outgoing cross-border transfers amount(02) is 0.00 with the effect of -4.81%, indicating a moderate negative impact. Additionally, the incoming cross-border transfers amount(01) to 1.00 with the effect of -4.59%, indicating a moderate negative impact. The customer has a risk score classified as medium with the effect of -3.53%, indicating a moderate negative impact. and their business card type is considered as natural with the effect of 17.14%, indicating a significant positive contribution. The customer is associated with the United Kingdom in their risk country with the effect of 2.83%, indicating a moderate positive impact. The probability of this case being false alert is assessed as medium risk.\n"
          ]
        }
      ],
      "source": [
        "from peft import PeftModel\n",
        "from transformers import AutoTokenizer, AutoModel\n",
        "import torch\n",
        "\n",
        "device = torch.device(0)\n",
        "# Loading pretrained model chatglm-6B\n",
        "model_path = \"/home/user/imported_models/chatglm-6b-20230419\"\n",
        "model = AutoModel.from_pretrained(model_path, trust_remote_code=True).half().to(device)\n",
        "tokenizer = AutoTokenizer.from_pretrained(model_path, trust_remote_code=True)\n",
        "response, history = model.chat(\n",
        "    tokenizer,\n",
        "    \"Please provide a description of the data in the following financial domain\\n total amount transfered: 169675.51 effect: 2.93%Number of transactions in case: 1 effect: 15.44%\\nNumberLinkedCustomers: 3 effect: 19.06%\\nCASHDEPOCASHDEPO2: 0.00 effect: -5.97%TRANSACTCRBOUTGO1: 0.00 effect: 2.64%TRANSACTCRBOUTGO2: 0.00 effect: -4.81%TRANSACTCRBINCOM1: 1.00 effect: -4.59%cust_risk_score: medium effect: -3.53%\\nbcnf_type_Name: natural effect: 17.14%\\nCustRiskCountryId: United Kingdom effect: 2.83%\\nprediction: 1 probability: 68.11%\",\n",
        "    history=[])\n",
        "print(f\"Before tuning:\\n {response}\\n\")\n",
        "\n",
        "# Apply LoRa on the pretrained model\n",
        "model = PeftModel.from_pretrained(model, \"/home/user/data/update_weights4/checkpoint-10000\").half()\n",
        "response, history = model.chat(\n",
        "    tokenizer,\n",
        "    \"Please provide a description of the data in the following financial domain\\n total amount transfered: 169675.51 effect: 2.93%Number of transactions in case: 1 effect: 15.44%\\nNumberLinkedCustomers: 3 effect: 19.06%\\nCASHDEPOCASHDEPO2: 0.00 effect: -5.97%TRANSACTCRBOUTGO1: 0.00 effect: 2.64%TRANSACTCRBOUTGO2: 0.00 effect: -4.81%TRANSACTCRBINCOM1: 1.00 effect: -4.59%cust_risk_score: medium effect: -3.53%\\nbcnf_type_Name: natural effect: 17.14%\\nCustRiskCountryId: United Kingdom effect: 2.83%\\nprediction: 1 probability: 68.11%\",\n",
        "    history=[])\n",
        "print(f\"After tuning:\\n {response}\")"
      ]
    },
    {
      "cell_type": "markdown",
      "id": "3b620e9d-f955-478a-a2ca-11f665f17d42",
      "metadata": {
        "id": "3b620e9d-f955-478a-a2ca-11f665f17d42"
      },
      "source": [
        "## Second instance"
      ]
    },
    {
      "cell_type": "code",
      "execution_count": null,
      "id": "385e5df0",
      "metadata": {
        "id": "385e5df0",
        "outputId": "dbe0246c-8573-45f6-925b-81cec7a24e7e"
      },
      "outputs": [
        {
          "name": "stderr",
          "output_type": "stream",
          "text": [
            "/usr/local/lib/python3.10/dist-packages/tqdm/auto.py:22: TqdmWarning: IProgress not found. Please update jupyter and ipywidgets. See https://ipywidgets.readthedocs.io/en/stable/user_install.html\n",
            "  from .autonotebook import tqdm as notebook_tqdm\n",
            "Loading checkpoint shards: 100%|██████████| 8/8 [00:11<00:00,  1.39s/it]\n",
            "The dtype of attention mask (torch.int64) is not bool\n"
          ]
        },
        {
          "name": "stdout",
          "output_type": "stream",
          "text": [
            "Before tuning:\n",
            " The data describes a financial situation where a total amount in transactions of 40000.00 was increased by 10.72% due to a total amount received of 40000.00 being increased by 2.57%. The average of the total amount transfered was 0.00 and the standard deviation of the total amount received was 8.47%. The number of transactions in the case was 2 and the numberLinkedCustomers was 1. The Scenario was KYC_dap_01 and the cust_risk_score was low. The Bcnf_type_Name was natural. This information is useful for understanding the impact of various factors on the financial performance of a company.\n",
            "\n",
            "After tuning:\n",
            " total amount in transactions is 40000.00 with the effect of 10.72%, indicating a significant positive contribution.  total amount received is 40000.00 with the effect of 2.57%, indicating a moderate positive impact. average  of total amount transfered is 0.00 with the effect of -2.20%, indicating a moderate negative impact. in 2 transaction with the effect of 6.08%, indicating a moderate positive impact. The standard deviation of total received amount is 0.00 with the effect of 8.47%, indicating a moderate positive impact. Moreover, there is only 1 linked customer with the effect of -14.99%, indicating a significant negative contribution. The customer has made a cash deposit with an amount of 96143.71 with the effect of 2.89%, indicating a moderate positive impact. This case is under scenario kyc_dap_01 with the effect of 5.73%, indicating a moderate positive impact. The customer has a risk score classified as low with the effect of 4.60%, indicating a moderate positive impact. and their business card type is considered as natural with the effect of 21.83%, indicating a significant positive contribution.\n"
          ]
        }
      ],
      "source": [
        "from peft import PeftModel\n",
        "from transformers import AutoTokenizer, AutoModel\n",
        "import torch\n",
        "\n",
        "device = torch.device(0)\n",
        "# Loading pretrained model chatglm-6B\n",
        "model_path = \"/home/user/imported_models/chatglm-6b-20230419\"\n",
        "model = AutoModel.from_pretrained(model_path, trust_remote_code=True).half().to(device)\n",
        "tokenizer = AutoTokenizer.from_pretrained(model_path, trust_remote_code=True)\n",
        "response, history = model.chat(\n",
        "    tokenizer,\n",
        "    \"Please provide a description of the data in the following financial domain\\n total amount in transactions: 18450.00 effect: 6.03%Number of transactions in case: 1 effect: 12.40%\\nNumberLinkedCustomers: 3 effect: 14.18%\\nCASHDEPOCASHDEPO2: 96143.71 effect: 3.51%TRANSACTCRBOUTGO1: 0.00 effect: 4.33%TRANSACTCRBINCOM1: 211.58 effect: 2.63%scenario: dbs_ctf_02 effect: 7.17%\\ncust_risk_score: low effect: 4.91%\\nbcnf_type_Name: natural effect: 17.80%\\nCustDomcCountryId: Denmark effect: 4.45%\\nprediction: 1 probability: 97.45%\",\n",
        "    history=[])\n",
        "print(f\"Before tuning:\\n {response}\\n\")\n",
        "\n",
        "# Apply LoRa on the pretrained model\n",
        "model = PeftModel.from_pretrained(model, \"/home/user/data/update_weights4/checkpoint-10000\").half()\n",
        "response, history = model.chat(\n",
        "    tokenizer,\n",
        "    \"Please provide a description of the data in the following financial domain\\n total amount in transactions: 18450.00 effect: 6.03%Number of transactions in case: 1 effect: 12.40%\\nNumberLinkedCustomers: 3 effect: 14.18%\\nCASHDEPOCASHDEPO2: 96143.71 effect: 3.51%TRANSACTCRBOUTGO1: 0.00 effect: 4.33%TRANSACTCRBINCOM1: 211.58 effect: 2.63%scenario: dbs_ctf_02 effect: 7.17%\\ncust_risk_score: low effect: 4.91%\\nbcnf_type_Name: natural effect: 17.80%\\nCustDomcCountryId: Denmark effect: 4.45%\\nprediction: 1 probability: 97.45%\",\n",
        "    history=[])\n",
        "print(f\"After tuning:\\n {response}\")"
      ]
    },
    {
      "cell_type": "markdown",
      "id": "0ef23aa1",
      "metadata": {
        "id": "0ef23aa1"
      },
      "source": [
        "## Third instance"
      ]
    },
    {
      "cell_type": "code",
      "execution_count": null,
      "id": "170401b0-38de-4f81-827b-a422e6569981",
      "metadata": {
        "id": "170401b0-38de-4f81-827b-a422e6569981",
        "outputId": "08f904cc-821f-4ab8-8f2e-462bb7770438"
      },
      "outputs": [
        {
          "name": "stderr",
          "output_type": "stream",
          "text": [
            "/usr/local/lib/python3.10/dist-packages/tqdm/auto.py:22: TqdmWarning: IProgress not found. Please update jupyter and ipywidgets. See https://ipywidgets.readthedocs.io/en/stable/user_install.html\n",
            "  from .autonotebook import tqdm as notebook_tqdm\n",
            "Loading checkpoint shards: 100%|██████████| 8/8 [01:34<00:00, 11.77s/it]\n",
            "The dtype of attention mask (torch.int64) is not bool\n"
          ]
        },
        {
          "name": "stdout",
          "output_type": "stream",
          "text": [
            "Before tuning:\n",
            " The data in the provided financial domain describes a company's financial performance. The total amount transferred is the total value of all transactions made by the company, and the effect of this variable is 2.93%. The number of transactions in the case is 1, which means that there were only 1 transactions made by the company. The effect of this variable is 15.44%.\n",
            "\n",
            "The variable \"NumberLinkedCustomers\" shows the number of customers who are linked to the company. The effect of this variable is 19.06%. The variable \"CASHDEPOCASHDEPO2\" is a hold-over variable from a previous question, it doesn't have a direct impact on the company's financial performance.\n",
            "\n",
            "The variable \"TransACTCRBOUTGO1\" is a hold-over variable from a previous question, it doesn't have a direct impact on the company's financial performance. The variable \"TransACTCRBOUTGO2\" is a hold-over variable from a previous question, it doesn't have a direct impact on the company's financial performance. The variable \"TransACTCRbinCOM1\" is a hold-over variable from a previous question, it doesn't have a direct impact on the company's financial performance.\n",
            "\n",
            "The variable \"cust_risk_score\" is a hold-over variable from a previous question, it doesn't have a direct impact on the company's financial performance. The variable \"bcnf_type_Name\" is a hold-over variable from a previous question, it doesn't have a direct impact on the company's financial performance. The variable \"CustRiskCountryId\" is a hold-over variable from a previous question, it doesn't have a direct impact on the company's financial performance.\n",
            "\n",
            "The prediction is that the company will perform well based on the given data. With 68.11% probability, the company will have a positive financial performance. The data suggests that the company's transactions are relatively small and that there is a low risk of negative financial performance. However, it is important to note that this is just a prediction and the actual financial performance of the company will depend on many other factors.\n",
            "\n",
            "After tuning:\n",
            " total amount transferred is 169675.51 with the effect of 2.93%, indicating a moderate positive impact. in 1 transaction with the effect of 15.44%, indicating a significant positive contribution. Moreover, there is only 3 linked customer with the effect of 19.06%, indicating a significant positive contribution. The customer has made a cash deposit with an amount of 0.00 with the effect of -5.97%, indicating a moderate negative impact. Additionally, the outgoing cross-border transfers amount(01) is 0.00 with the effect of 2.64%, indicating a moderate positive impact. Additionally, the outgoing cross-border transfers amount(02) is 0.00 with the effect of -4.81%, indicating a moderate negative impact. Additionally, the incoming cross-border transfers amount(01) to 1.00 with the effect of -4.59%, indicating a moderate negative impact. The customer has a risk score classified as medium with the effect of -3.53%, indicating a moderate negative impact. and their business card type is considered as natural with the effect of 17.14%, indicating a significant positive contribution. The customer is associated with the United Kingdom in their risk country with the effect of 2.83%, indicating a moderate positive impact. The probability of this case being false alert is assessed as medium risk.\n"
          ]
        }
      ],
      "source": [
        "from peft import PeftModel\n",
        "from transformers import AutoTokenizer, AutoModel\n",
        "import torch\n",
        "\n",
        "device = torch.device(0)\n",
        "# Loading pretrained model chatglm-6B\n",
        "model_path = \"/home/user/imported_models/chatglm-6b-20230419\"\n",
        "model = AutoModel.from_pretrained(model_path, trust_remote_code=True).half().to(device)\n",
        "tokenizer = AutoTokenizer.from_pretrained(model_path, trust_remote_code=True)\n",
        "response, history = model.chat(tokenizer,\n",
        "           \"Please provide a description of the data in the following financial domain\\n total amount transferred: 169675.51 effect: 2.93%Number of transactions in case: 1 effect: 15.44%\\nNumberLinkedCustomers: 3 effect: 19.06%\\nCASHDEPOCASHDEPO2: 0.00 effect: -5.97%TRANSACTCRBOUTGO1: 0.00 effect: 2.64%TRANSACTCRBOUTGO2: 0.00 effect: -4.81%TRANSACTCRBINCOM1: 1.00 effect: -4.59%cust_risk_score: medium effect: -3.53%\\nbcnf_type_Name: natural effect: 17.14%\\nCustRiskCountryId: United Kingdom effect: 2.83%\\nprediction: 1 probability: 68.11%\",\n",
        "                               history=[])\n",
        "print(f\"Before tuning:\\n {response}\\n\")\n",
        "\n",
        "# Apply LoRa on the pretrained model\n",
        "model = PeftModel.from_pretrained(model, \"/home/user/data/update_weights4/checkpoint-10000\").half()\n",
        "response, history = model.chat(tokenizer,\n",
        "           \"Please provide a description of the data in the following financial domain\\n total amount transferred: 169675.51 effect: 2.93%Number of transactions in case: 1 effect: 15.44%\\nNumberLinkedCustomers: 3 effect: 19.06%\\nCASHDEPOCASHDEPO2: 0.00 effect: -5.97%TRANSACTCRBOUTGO1: 0.00 effect: 2.64%TRANSACTCRBOUTGO2: 0.00 effect: -4.81%TRANSACTCRBINCOM1: 1.00 effect: -4.59%cust_risk_score: medium effect: -3.53%\\nbcnf_type_Name: natural effect: 17.14%\\nCustRiskCountryId: United Kingdom effect: 2.83%\\nprediction: 1 probability: 68.11%\",\n",
        "                               history=[])\n",
        "print(f\"After tuning:\\n {response}\")"
      ]
    },
    {
      "cell_type": "markdown",
      "id": "828e2ef3-b94f-4551-a6e6-4adc6f5e6e36",
      "metadata": {
        "id": "828e2ef3-b94f-4551-a6e6-4adc6f5e6e36"
      },
      "source": [
        "## Fourth instance"
      ]
    },
    {
      "cell_type": "code",
      "execution_count": null,
      "id": "54b0e780-f4d2-46da-9742-6a3e54a72d98",
      "metadata": {
        "id": "54b0e780-f4d2-46da-9742-6a3e54a72d98",
        "outputId": "d7e8e424-210c-4039-998b-b0073bbc4c7c"
      },
      "outputs": [
        {
          "name": "stderr",
          "output_type": "stream",
          "text": [
            "Loading checkpoint shards: 100%|██████████| 8/8 [00:12<00:00,  1.53s/it]\n"
          ]
        },
        {
          "name": "stdout",
          "output_type": "stream",
          "text": [
            "Before tuning:\n",
            " The data can be describe as follows:\n",
            "\n",
            "-   Total amount transferred: 169675.51\n",
            "-   Number of transactions in case: 1\n",
            "-   NumberLinkedCustomers: 3\n",
            "-   CASHDEPOCASHDEPO2: 0.00\n",
            "-   TRANSACTCRBOUTGO1: 0.00\n",
            "-   TRANSACTCRBOUTGO2: 0.00\n",
            "-   TRANSACTCRBINCOM1: 1.00\n",
            "-   cust_risk_score: medium\n",
            "-   Bcnf_type_Name: natural\n",
            "-   CustRiskCountryId: United Kingdom\n",
            "-   prediction: 1\n",
            "-   probability: 68.11%\n",
            "\n",
            "The variables are all related to financial information, specifically to the case, where a customer has made a transfer. The amount transferred, the number of transactions, the number of customers linked to the case, the CASHDEPOCASHDEPO2 variable, the TRANSACTCRBOUTGO1 and TRANSACTCRBOUTGO2 variables, and the TRANSACTCRBINCOM1 variable are all measures of the performance of the case. The cust_risk_score variable is a measure of customer risk, and the bcnf_type_Name variable is a measure of the type of financial risk that is being considered. CustRiskCountryId is a measure of country risk, and the prediction variable is a measure of the probability that a transfer will be made in the next month. The probability is calculated based on the sum of the individual variables' effects.\n",
            "\n",
            "After tuning:\n",
            " total amount transferred is 169675.51 with the effect of 2.93%, indicating a moderate positive impact. in 1 transaction with the effect of 15.44%, indicating a significant positive contribution. Moreover, there is only 3 linked customer with the effect of 19.06%, indicating a significant positive contribution. The customer has made a cash deposit with an amount of 0.00 with the effect of -5.97%, indicating a moderate negative impact. Additionally, the outgoing cross-border transfers amount(01) is 0.00 with the effect of 2.64%, indicating a moderate positive impact. Additionally, the outgoing cross-border transfers amount(02) is 0.00 with the effect of -4.81%, indicating a moderate negative impact. Additionally, the incoming cross-border transfers amount(01) to 1.00 with the effect of -4.59%, indicating a moderate negative impact. The customer has a risk score classified as medium with the effect of -3.53%, indicating a moderate negative impact. and their business card type is considered as natural with the effect of 17.14%, indicating a significant positive contribution. The customer is associated with the United Kingdom in their risk country with the effect of 2.83%, indicating a moderate positive impact. The probability of this case being false alert is assessed as medium risk.\n"
          ]
        }
      ],
      "source": [
        "from peft import PeftModel\n",
        "from transformers import AutoTokenizer, AutoModel\n",
        "import torch\n",
        "\n",
        "device = torch.device(0)\n",
        "# Loading pretrained model chatglm-6B\n",
        "model_path = \"/home/user/imported_models/chatglm-6b-20230419\"\n",
        "model = AutoModel.from_pretrained(model_path, trust_remote_code=True).half().to(device)\n",
        "tokenizer = AutoTokenizer.from_pretrained(model_path, trust_remote_code=True)\n",
        "response, history = model.chat(tokenizer,\n",
        "           \"Please provide a description of the data in the following financial domain and list all variables in english \\n total amount transferred: 169675.51 effect: 2.93%Number of transactions in case: 1 effect: 15.44%\\nNumberLinkedCustomers: 3 effect: 19.06%\\nCASHDEPOCASHDEPO2: 0.00 effect: -5.97%TRANSACTCRBOUTGO1: 0.00 effect: 2.64%TRANSACTCRBOUTGO2: 0.00 effect: -4.81%TRANSACTCRBINCOM1: 1.00 effect: -4.59%cust_risk_score: medium effect: -3.53%\\nbcnf_type_Name: natural effect: 17.14%\\nCustRiskCountryId: United Kingdom effect: 2.83%\\nprediction: 1 probability: 68.11%\",\n",
        "                               history=[])\n",
        "print(f\"Before tuning:\\n {response}\\n\")\n",
        "\n",
        "# Apply LoRa on the pretrained model\n",
        "model = PeftModel.from_pretrained(model, \"/home/user/data/update_weights4/checkpoint-10000\").half()\n",
        "response, history = model.chat(tokenizer,\n",
        "           \"Please provide a description of the data in the following financial domain and list all variables in english\\n total amount transferred: 169675.51 effect: 2.93%Number of transactions in case: 1 effect: 15.44%\\nNumberLinkedCustomers: 3 effect: 19.06%\\nCASHDEPOCASHDEPO2: 0.00 effect: -5.97%TRANSACTCRBOUTGO1: 0.00 effect: 2.64%TRANSACTCRBOUTGO2: 0.00 effect: -4.81%TRANSACTCRBINCOM1: 1.00 effect: -4.59%cust_risk_score: medium effect: -3.53%\\nbcnf_type_Name: natural effect: 17.14%\\nCustRiskCountryId: United Kingdom effect: 2.83%\\nprediction: 1 probability: 68.11%\",\n",
        "                               history=[])\n",
        "print(f\"After tuning:\\n {response}\")"
      ]
    },
    {
      "cell_type": "markdown",
      "id": "111bf493-5c93-4293-b848-ec9a814052b1",
      "metadata": {
        "id": "111bf493-5c93-4293-b848-ec9a814052b1"
      },
      "source": [
        "## Five instance"
      ]
    },
    {
      "cell_type": "code",
      "execution_count": null,
      "id": "edafa876-4e51-405f-8833-2a17a47c8f0f",
      "metadata": {
        "id": "edafa876-4e51-405f-8833-2a17a47c8f0f",
        "outputId": "e9d4a97e-1bc2-4eae-a69f-aac53da60e96"
      },
      "outputs": [
        {
          "name": "stderr",
          "output_type": "stream",
          "text": [
            "Loading checkpoint shards: 100%|██████████| 8/8 [00:12<00:00,  1.54s/it]\n"
          ]
        },
        {
          "name": "stdout",
          "output_type": "stream",
          "text": [
            "Before tuning:\n",
            " The data in the following financial domain describes a company's financial performance. The variables are as follows:\n",
            "\n",
            "- total amount transferred: The total amount of money that has been transferred between the company's customers.\n",
            "-Number of transactions in case: The number of transactions that have occurred in a specific case (e.g. a deal between two customers).\n",
            "-NumberLinkedCustomers: The number of customers who are linked to the company (e.g. if a customer has a business relationship with another customer, that customer is considered to be linked).\n",
            "-CASHDEPOCASHDEPO2: The second value in the variable \"CASHDEPOCASHDEPO\" is a number, which indicates the amount of money that has been transferred between the company's customers in the previous month.\n",
            "-TRANSACTCRBOUTGO1: The first value in the variable \"TRANSACTCRBOUTGO\" is a number, which indicates the total amount of money that has been transfered in a specific month (e.g. in the previous month).\n",
            "-TRANSACTCRBOUTGO2: The second value in the variable \"TRANSACTCRBOUTGO\" is a number, which indicates the total amount of money that has been transfered in the previous month (e.g. in the previous month).\n",
            "-TRANSACTCRbinCOM1: The first value in the variable \"TRANSACTCRBOUTGO\" is a number, which indicates the total amount of money that has been transfered in a specific month (e.g. in the previous month).\n",
            "-cust_risk_score: A score that indicates the company's risk of loss for customer fraud.\n",
            "-bcnf_type_Name: A string that indicates the type of financial statement (e.g. balance sheet, income statement, statement of cash flows).\n",
            "\n",
            "Note that the variables are organized by type, with the most relevant information first, and then in a follow-up variable for each type. The variable \"cust_risk_score\" has a type of \"score\", which means that it contains a value that indicates the company's risk of loss for customer fraud. The variable \"bcnf_type_Name\" has a type of \"string\", which means that it contains a name of a financial statement type (e.g. balance sheet, income statement, statement of cash flows).\n",
            "\n",
            "After tuning:\n",
            " total amount transferred is 169675.51 with the effect of 2.93%, indicating a moderate positive impact. in 1 transaction with the effect of 15.44%, indicating a significant positive contribution. Moreover, there is only 3 linked customer with the effect of 19.06%, indicating a significant positive contribution. The customer has made a cash deposit with an amount of 0.00 with the effect of -5.97%, indicating a moderate negative impact. Additionally, the outgoing cross-border transfers amount(01) is 0.00 with the effect of 2.64%, indicating a moderate positive impact. Additionally, the outgoing cross-border transfers amount(02) is 0.00 with the effect of -4.81%, indicating a moderate negative impact. Additionally, the incoming cross-border transfers amount(01) to 1.00 with the effect of -4.59%, indicating a moderate negative impact. The customer has a risk score classified as medium with the effect of -3.53%, indicating a moderate negative impact. and their business card type is considered as natural with the effect of 17.14%, indicating a significant positive contribution.\n"
          ]
        }
      ],
      "source": [
        "from peft import PeftModel\n",
        "from transformers import AutoTokenizer, AutoModel\n",
        "import torch\n",
        "\n",
        "device = torch.device(0)\n",
        "# Loading pretrained model chatglm-6B\n",
        "model_path = \"/home/user/imported_models/chatglm-6b-20230419\"\n",
        "model = AutoModel.from_pretrained(model_path, trust_remote_code=True).half().to(device)\n",
        "tokenizer = AutoTokenizer.from_pretrained(model_path, trust_remote_code=True)\n",
        "response, history = model.chat(tokenizer,\n",
        "           \"Please provide a description of the data in the following financial domain and list all variables in english \\n total amount transferred: 169675.51 effect: 2.93%Number of transactions in case: 1 effect: 15.44%\\nNumberLinkedCustomers: 3 effect: 19.06%\\nCASHDEPOCASHDEPO2: 0.00 effect: -5.97%TRANSACTCRBOUTGO1: 0.00 effect: 2.64%TRANSACTCRBOUTGO2: 0.00 effect: -4.81%TRANSACTCRBINCOM1: 1.00 effect: -4.59%cust_risk_score: medium effect: -3.53%\\nbcnf_type_Name: natural effect: 17.14%\",\n",
        "                               history=[])\n",
        "print(f\"Before tuning:\\n {response}\\n\")\n",
        "\n",
        "# Apply LoRa on the pretrained model\n",
        "model = PeftModel.from_pretrained(model, \"/home/user/data/update_weights4/checkpoint-10000\").half()\n",
        "response, history = model.chat(tokenizer,\n",
        "           \"Please provide a description of the data in the following financial domain and list all variables in english\\n total amount transferred: 169675.51 effect: 2.93%Number of transactions in case: 1 effect: 15.44%\\nNumberLinkedCustomers: 3 effect: 19.06%\\nCASHDEPOCASHDEPO2: 0.00 effect: -5.97%TRANSACTCRBOUTGO1: 0.00 effect: 2.64%TRANSACTCRBOUTGO2: 0.00 effect: -4.81%TRANSACTCRBINCOM1: 1.00 effect: -4.59%cust_risk_score: medium effect: -3.53%\\nbcnf_type_Name: natural effect: 17.14%\",\n",
        "                               history=[])\n",
        "print(f\"After tuning:\\n {response}\")"
      ]
    },
    {
      "cell_type": "code",
      "execution_count": null,
      "id": "b063b528-6cb0-4bd8-b8d5-070df30af9a2",
      "metadata": {
        "colab": {
          "referenced_widgets": [
            "2c63812083f546b3ab9d9e0df6726266",
            "b93906e83d0d4df1b5933dbe89413294"
          ]
        },
        "id": "b063b528-6cb0-4bd8-b8d5-070df30af9a2",
        "outputId": "55d2596a-fb31-46fb-ba97-528661231107"
      },
      "outputs": [
        {
          "data": {
            "application/vnd.jupyter.widget-view+json": {
              "model_id": "2c63812083f546b3ab9d9e0df6726266",
              "version_major": 2,
              "version_minor": 0
            },
            "text/plain": [
              "Loading checkpoint shards:   0%|          | 0/8 [00:00<?, ?it/s]"
            ]
          },
          "metadata": {},
          "output_type": "display_data"
        },
        {
          "data": {
            "application/vnd.jupyter.widget-view+json": {
              "model_id": "b93906e83d0d4df1b5933dbe89413294",
              "version_major": 2,
              "version_minor": 0
            },
            "text/plain": [
              "Processing:   0%|          | 0/10 [00:00<?, ?it/s]"
            ]
          },
          "metadata": {},
          "output_type": "display_data"
        },
        {
          "name": "stderr",
          "output_type": "stream",
          "text": [
            "The dtype of attention mask (torch.int64) is not bool\n"
          ]
        }
      ],
      "source": [
        "from peft import PeftModel\n",
        "from transformers import AutoTokenizer, AutoModel\n",
        "import torch\n",
        "import json\n",
        "from tqdm.notebook import tqdm\n",
        "\n",
        "def load_json_file(file_path):\n",
        "    with open(file_path, \"r\") as json_file:\n",
        "        data = [json.loads(line.strip()) for line in json_file]\n",
        "    return data\n",
        "\n",
        "def save_json_file(data, file_path):\n",
        "    with open(file_path, \"w\") as json_file:\n",
        "        for item in data:\n",
        "            json.dump(item, json_file)\n",
        "            json_file.write(\"\\n\")\n",
        "device = torch.device(0)\n",
        "# Load the JSON file\n",
        "json_file_path = \"/home/user/data/test.json\"\n",
        "data = load_json_file(json_file_path)\n",
        "\n",
        "# Initialize the model\n",
        "model_path = \"/home/user/imported_models/chatglm-6b-20230419\"\n",
        "model = AutoModel.from_pretrained(model_path, trust_remote_code=True).half().to(device)\n",
        "tokenizer = AutoTokenizer.from_pretrained(model_path, trust_remote_code=True)\n",
        "# Apply LoRa on the pretrained model\n",
        "model = PeftModel.from_pretrained(model, \"/home/user/data/update_weights4/checkpoint-10000\").half()\n",
        "\n",
        "\n",
        "# Process each item in the JSON data and save the results\n",
        "results = []\n",
        "for item in tqdm(data, desc=\"Processing\"):\n",
        "    question = item.get(\"q\", \"\") # returns the value of the item with the q key.\n",
        "    response = model.chat(tokenizer, question, history=[])\n",
        "    results.append({\"q\": question, \"a\": response[0]})\n",
        "\n",
        "# Save the results as a new JSON file\n",
        "output_file_path = \"/home/user/data/test_result.json\"\n",
        "save_json_file(results, output_file_path)\n"
      ]
    },
    {
      "cell_type": "markdown",
      "source": [
        "#ROUGE evaluation"
      ],
      "metadata": {
        "id": "3meGQdQ9tBQH"
      },
      "id": "3meGQdQ9tBQH"
    },
    {
      "cell_type": "code",
      "execution_count": null,
      "id": "c616042c-aa02-4a69-b37a-0fb492583aed",
      "metadata": {
        "colab": {
          "referenced_widgets": [
            "12e1cc094e87485d83f1f4e516ff7a89",
            "7d7ee47c7cb54566a3b5c86f11af3ee6"
          ]
        },
        "id": "c616042c-aa02-4a69-b37a-0fb492583aed",
        "outputId": "24e1fdd1-bcfe-4d02-b656-d1438ca88523"
      },
      "outputs": [
        {
          "data": {
            "application/vnd.jupyter.widget-view+json": {
              "model_id": "12e1cc094e87485d83f1f4e516ff7a89",
              "version_major": 2,
              "version_minor": 0
            },
            "text/plain": [
              "Loading checkpoint shards:   0%|          | 0/8 [00:00<?, ?it/s]"
            ]
          },
          "metadata": {},
          "output_type": "display_data"
        },
        {
          "data": {
            "application/vnd.jupyter.widget-view+json": {
              "model_id": "7d7ee47c7cb54566a3b5c86f11af3ee6",
              "version_major": 2,
              "version_minor": 0
            },
            "text/plain": [
              "Processing:   0%|          | 0/1000 [00:00<?, ?it/s]"
            ]
          },
          "metadata": {},
          "output_type": "display_data"
        }
      ],
      "source": [
        "from peft import PeftModel\n",
        "from transformers import AutoTokenizer, AutoModel\n",
        "import torch\n",
        "import json\n",
        "from tqdm.notebook import tqdm\n",
        "\n",
        "def load_json_file(file_path):\n",
        "    with open(file_path, \"r\") as json_file:\n",
        "        data = [json.loads(line.strip()) for line in json_file]\n",
        "    return data\n",
        "\n",
        "def save_json_file(data, file_path):\n",
        "    with open(file_path, \"w\") as json_file:\n",
        "        for item in data:\n",
        "            json.dump(item, json_file)\n",
        "            json_file.write(\"\\n\")\n",
        "device = torch.device(0)\n",
        "# Load the JSON file\n",
        "json_file_path = \"/home/user/data/test.json\"\n",
        "data = load_json_file(json_file_path)\n",
        "\n",
        "# Initialize the model\n",
        "model_path = \"/home/user/imported_models/chatglm-6b-20230419\"\n",
        "model = AutoModel.from_pretrained(model_path, trust_remote_code=True).half().to(device)\n",
        "tokenizer = AutoTokenizer.from_pretrained(model_path, trust_remote_code=True)\n",
        "# Apply LoRa on the pretrained model\n",
        "model = PeftModel.from_pretrained(model, \"/home/user/data/update_weights4/checkpoint-10000\").half()\n",
        "\n",
        "\n",
        "# Process each item in the JSON data and save the results\n",
        "results = []\n",
        "for item in tqdm(data, desc=\"Processing\"):\n",
        "    question = item.get(\"q\", \"\") # returns the value of the item with the q key.\n",
        "    response = model.chat(tokenizer, question, history=[])\n",
        "    results.append({\"q\": question, \"a\": response[0]})\n",
        "\n",
        "# Save the results as a new JSON file\n",
        "output_file_path = \"/home/user/data/test_result.json\"\n",
        "save_json_file(results, output_file_path)"
      ]
    },
    {
      "cell_type": "code",
      "execution_count": null,
      "id": "228485e0-87fa-476c-b201-a2ae71a83a46",
      "metadata": {
        "id": "228485e0-87fa-476c-b201-a2ae71a83a46",
        "outputId": "49ff1118-101d-4d8e-cc32-66ac4f4d4907"
      },
      "outputs": [
        {
          "data": {
            "text/plain": [
              "{'q': 'Please provide a description of the data in the following financial domain\\n total amount transfered: 169675.51 effect: 2.93%Number of transactions in case: 1 effect: 15.44%\\nNumberLinkedCustomers: 3 effect: 19.06%\\nCASHDEPOCASHDEPO2: 0.00 effect: -5.97%TRANSACTCRBOUTGO1: 0.00 effect: 2.64%TRANSACTCRBOUTGO2: 0.00 effect: -4.81%TRANSACTCRBINCOM1: 1.00 effect: -4.59%cust_risk_score: medium effect: -3.53%\\nbcnf_type_Name: natural effect: 17.14%\\nCustRiskCountryId: United Kingdom effect: 2.83%\\nprediction: 1 probability: 68.11%',\n",
              " 'a': 'total amount transfered is 169675.51 with the effect of 2.93%, indicating a moderate positive impact. in 1 transaction with the effect of 15.44%, indicating a significant positive contribution. Moreover, there is only 3 linked customer with the effect of 19.06%, indicating a significant positive contribution. The customer has made a cash deposit with an amount of 0.00 with the effect of -5.97%, indicating a moderate negative impact. Additionally, the outgoing cross-border transfers amount(01) is 0.00 with the effect of 2.64%, indicating a moderate positive impact. Additionally, the outgoing cross-border transfers amount(02) is 0.00 with the effect of -4.81%, indicating a moderate negative impact. Additionally, the incoming cross-border transfers amount(01) to 1.00 with the effect of -4.59%, indicating a moderate negative impact. The customer has a risk score classified as medium with the effect of -3.53%, indicating a moderate negative impact. and their business card type is considered as natural with the effect of 17.14%, indicating a significant positive contribution. The customer is associated with the United Kingdom in their risk country with the effect of 2.83%, indicating a moderate positive impact. The probability of this case being false alert is assessed as medium risk.'}"
            ]
          },
          "execution_count": 3,
          "metadata": {},
          "output_type": "execute_result"
        }
      ],
      "source": [
        "results[0]"
      ]
    },
    {
      "cell_type": "code",
      "execution_count": null,
      "id": "becb1670-9658-407d-848f-ed401e7444f1",
      "metadata": {
        "id": "becb1670-9658-407d-848f-ed401e7444f1",
        "outputId": "4bc0aa0e-64a9-4883-f57e-8c53265c6823"
      },
      "outputs": [
        {
          "data": {
            "text/plain": [
              "'total amount transfered is 169675.51 with the effect of 2.93%, indicating a moderate positive impact. in 1 transaction with the effect of 15.44%, indicating a significant positive contribution. Moreover, there is only 3 linked customer with the effect of 19.06%, indicating a significant positive contribution. The customer has made a cash deposit with an amount of 0.00 with the effect of -5.97%, indicating a moderate negative impact. Additionally, the outgoing cross-border transfers amount(01) is 0.00 with the effect of 2.64%, indicating a moderate positive impact. Additionally, the outgoing cross-border transfers amount(02) is 0.00 with the effect of -4.81%, indicating a moderate negative impact. Additionally, the incoming cross-border transfers amount(01) to 1.00 with the effect of -4.59%, indicating a moderate negative impact. The customer has a risk score classified as medium with the effect of -3.53%, indicating a moderate negative impact. and their business card type is considered as natural with the effect of 17.14%, indicating a significant positive contribution. The customer is associated with the United Kingdom in their risk country with the effect of 2.83%, indicating a moderate positive impact. The probability of this case being false alert is assessed as medium risk.'"
            ]
          },
          "execution_count": 4,
          "metadata": {},
          "output_type": "execute_result"
        }
      ],
      "source": [
        "results[0].get(\"a\", \"\")"
      ]
    },
    {
      "cell_type": "markdown",
      "source": [
        "####Load testing json file and get predictions for each case"
      ],
      "metadata": {
        "id": "fNTVEW8jthUD"
      },
      "id": "fNTVEW8jthUD"
    },
    {
      "cell_type": "code",
      "execution_count": null,
      "id": "b53516c3-f616-48e0-8456-9bac28eb6c09",
      "metadata": {
        "id": "b53516c3-f616-48e0-8456-9bac28eb6c09"
      },
      "outputs": [],
      "source": [
        "import json\n",
        "from rouge import Rouge\n",
        "\n",
        "def load_json_file(file_path):\n",
        "    with open(file_path, \"r\") as json_file:\n",
        "        data = [json.loads(line.strip()) for line in json_file]\n",
        "    return data\n",
        "\n",
        "refer_json_file_path = \"/home/user/data/test_data_reference.json\"\n",
        "refer = load_json_file(refer_json_file_path)\n",
        "\n",
        "output_file_path = \"/home/user/data/test_result.json\"\n",
        "pred = load_json_file(output_file_path)\n",
        "\n",
        "predictions = []\n",
        "for item in pred:\n",
        "    response = item.get(\"a\", \"\")\n",
        "    predictions.append(response)\n",
        "\n",
        "references = []\n",
        "for item in refer:\n",
        "    refer = item.get(\"a\", \"\")\n",
        "    references.append(refer)\n"
      ]
    },
    {
      "cell_type": "code",
      "execution_count": null,
      "id": "836b2ad1-5d92-4e66-b39f-7201d041cc6c",
      "metadata": {
        "id": "836b2ad1-5d92-4e66-b39f-7201d041cc6c"
      },
      "outputs": [],
      "source": [
        "rouge = Rouge()\n",
        "score_list = []\n",
        "for p, r in zip(predictions, references):\n",
        "    scores = rouge.get_scores(p, r)\n",
        "    score_list.append(scores)"
      ]
    },
    {
      "cell_type": "markdown",
      "source": [
        "####Define an average ROUGE calculation function"
      ],
      "metadata": {
        "id": "1VldKfLztYN0"
      },
      "id": "1VldKfLztYN0"
    },
    {
      "cell_type": "code",
      "execution_count": null,
      "id": "698aaea2-5e45-43de-823b-c4c2d82aef2f",
      "metadata": {
        "id": "698aaea2-5e45-43de-823b-c4c2d82aef2f"
      },
      "outputs": [],
      "source": [
        "def cal_avg_rouge(score_list):\n",
        "    avg_rouge_scores = {\"rouge-1\": {\"f\": 0, \"p\": 0, \"r\": 0},\n",
        "                        \"rouge-2\": {\"f\": 0, \"p\": 0, \"r\": 0},\n",
        "                        \"rouge-l\": {\"f\": 0, \"p\": 0, \"r\": 0}}\n",
        "\n",
        "    for item in scores:\n",
        "        for m in ['rouge-1', 'rouge-2', 'rouge-l']:\n",
        "            for s in ['r', 'p', 'f']:\n",
        "                avg_rouge_scores[m][s] += item[m][s]\n",
        "    for m in ['rouge-1', 'rouge-2', 'rouge-l']:\n",
        "        for s in ['r', 'p', 'f']:\n",
        "            avg_rouge_scores[m][s] /= len(score_list)\n",
        "    return avg_rouge_scores"
      ]
    },
    {
      "cell_type": "code",
      "execution_count": null,
      "id": "a4a8bc6d-6f6d-49b4-acbc-5aae553e8c5a",
      "metadata": {
        "id": "a4a8bc6d-6f6d-49b4-acbc-5aae553e8c5a"
      },
      "outputs": [],
      "source": [
        "average_rouge_score = cal_avg_rouge(score_list)"
      ]
    },
    {
      "cell_type": "markdown",
      "source": [
        "####print ROUGE metrix"
      ],
      "metadata": {
        "id": "N9Ym77gEtL02"
      },
      "id": "N9Ym77gEtL02"
    },
    {
      "cell_type": "code",
      "execution_count": null,
      "id": "f55b2c59-c382-4179-9122-c3b8cbc84740",
      "metadata": {
        "id": "f55b2c59-c382-4179-9122-c3b8cbc84740",
        "outputId": "339b6b91-19df-4dfb-8062-009814c94b95"
      },
      "outputs": [
        {
          "data": {
            "text/plain": [
              "{'rouge-1': {'f': 0.000999999995, 'p': 0.001, 'r': 0.001},\n",
              " 'rouge-2': {'f': 0.000999999995, 'p': 0.001, 'r': 0.001},\n",
              " 'rouge-l': {'f': 0.000999999995, 'p': 0.001, 'r': 0.001}}"
            ]
          },
          "execution_count": 45,
          "metadata": {},
          "output_type": "execute_result"
        }
      ],
      "source": [
        "average_rouge_score"
      ]
    }
  ],
  "metadata": {
    "kernelspec": {
      "display_name": "Python 3 (ipykernel)",
      "language": "python",
      "name": "python3"
    },
    "language_info": {
      "codemirror_mode": {
        "name": "ipython",
        "version": 3
      },
      "file_extension": ".py",
      "mimetype": "text/x-python",
      "name": "python",
      "nbconvert_exporter": "python",
      "pygments_lexer": "ipython3",
      "version": "3.10.6"
    },
    "colab": {
      "provenance": []
    }
  },
  "nbformat": 4,
  "nbformat_minor": 5
}